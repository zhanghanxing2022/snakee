{
 "cells": [
  {
   "cell_type": "code",
   "execution_count": 15,
   "metadata": {},
   "outputs": [
    {
     "name": "stdout",
     "output_type": "stream",
     "text": [
      "4.00462962962963\n"
     ]
    }
   ],
   "source": [
    "def score(x):\n",
    "    return 4+6/36*(x/36)\n",
    "print(score(1))"
   ]
  },
  {
   "cell_type": "code",
   "execution_count": 16,
   "metadata": {},
   "outputs": [
    {
     "name": "stdout",
     "output_type": "stream",
     "text": [
      "  Student      ID SIS Login ID           Section public  private  \\\n",
      "0     胡晓阳   83964  18301010040  COMP130014.01 编译    NaN      NaN   \n",
      "1     惠予瑶  143837  20307110370  COMP130014.01 编译    NaN      NaN   \n",
      "\n",
      "  Assignment 0 荣誉班退课作业提交 (101600)  \n",
      "0                             NaN  \n",
      "1                             NaN  \n",
      "    student_id name  total_tests  passed_tests  failed_tests  \\\n",
      "0  22302010083  张润绮           36            32             4   \n",
      "\n",
      "                               failed_files  \n",
      "0  big_int_mul; full_conn; matrix_mul; sort  \n"
     ]
    }
   ],
   "source": [
    "import pandas as pd\n",
    "\n",
    "# 读取Excel文件\n",
    "file_path = '/Users/zhanghanxing/Downloads/副本2024-12-19T1605_评分-COMP130014.01_编译_ck(1).xlsx'\n",
    "df = pd.read_excel(file_path)\n",
    "\n",
    "# 显示前3行数据\n",
    "print(df.head(2))\n",
    "\n",
    "# 读取CSV文件\n",
    "file_path = '/Users/zhanghanxing/同步空间/test_results.csv'\n",
    "df = pd.read_csv(file_path)\n",
    "\n",
    "# 显示前3行数据\n",
    "print(df.head(1))"
   ]
  }
 ],
 "metadata": {
  "kernelspec": {
   "display_name": "test2",
   "language": "python",
   "name": "python3"
  },
  "language_info": {
   "codemirror_mode": {
    "name": "ipython",
    "version": 3
   },
   "file_extension": ".py",
   "mimetype": "text/x-python",
   "name": "python",
   "nbconvert_exporter": "python",
   "pygments_lexer": "ipython3",
   "version": "3.10.13"
  }
 },
 "nbformat": 4,
 "nbformat_minor": 2
}
